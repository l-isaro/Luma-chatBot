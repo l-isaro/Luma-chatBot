{
  "cells": [
    {
      "cell_type": "markdown",
      "metadata": {
        "id": "view-in-github",
        "colab_type": "text"
      },
      "source": [
        "<a href=\"https://colab.research.google.com/github/l-isaro/Luma-chatBot/blob/main/Luma_chatbot.ipynb\" target=\"_parent\"><img src=\"https://colab.research.google.com/assets/colab-badge.svg\" alt=\"Open In Colab\"/></a>"
      ]
    },
    {
      "cell_type": "markdown",
      "metadata": {
        "id": "X1ve1AXQbcu7"
      },
      "source": [
        "# Mental Health Chatbot Development Notebook"
      ]
    },
    {
      "cell_type": "code",
      "execution_count": 1,
      "metadata": {
        "colab": {
          "base_uri": "https://localhost:8080/"
        },
        "id": "_t4CCZ5Pbcu-",
        "outputId": "3ba1f0c7-eddc-4638-83c3-5d11832564aa"
      },
      "outputs": [
        {
          "output_type": "stream",
          "name": "stderr",
          "text": [
            "[nltk_data] Downloading package punkt to /root/nltk_data...\n",
            "[nltk_data]   Unzipping tokenizers/punkt.zip.\n",
            "[nltk_data] Downloading package wordnet to /root/nltk_data...\n"
          ]
        }
      ],
      "source": [
        "import numpy as np\n",
        "import pandas as pd\n",
        "import re\n",
        "import random\n",
        "import transformers\n",
        "import matplotlib.pyplot as plt\n",
        "import json\n",
        "import pickle\n",
        "import torch\n",
        "\n",
        "import nltk\n",
        "nltk.download('punkt')\n",
        "nltk.download('wordnet')\n",
        "from nltk.stem import WordNetLemmatizer\n",
        "from tensorflow.keras.models import Sequential\n",
        "from tensorflow.keras.layers import Dense,Activation,Dropout\n",
        "from tensorflow.keras.optimizers import SGD\n",
        "from tensorflow.keras import metrics\n",
        "from tensorflow.keras.utils import plot_model\n",
        "from tensorflow.keras.models import load_model"
      ]
    },
    {
      "cell_type": "markdown",
      "metadata": {
        "id": "YjJ6bTl3bcvA"
      },
      "source": [
        "# Loading and Viewing the Dataset\n",
        "\n",
        "- Reads the dataset from a CSV file (`mental_health_training.csv`).\n",
        "- Displays a sample of 5 random rows to get an overview of the data.\n"
      ]
    },
    {
      "cell_type": "code",
      "execution_count": 4,
      "metadata": {
        "colab": {
          "base_uri": "https://localhost:8080/",
          "height": 362
        },
        "id": "BbboxB8ibcvA",
        "outputId": "bb0904a8-a0de-4ff4-8e04-7afeb318160a"
      },
      "outputs": [
        {
          "output_type": "stream",
          "name": "stdout",
          "text": [
            "Dataset Overview:\n"
          ]
        },
        {
          "output_type": "execute_result",
          "data": {
            "text/plain": [
              "                                              question  \\\n",
              "86                                i can't do anything.   \n",
              "304  if i become involved in treatment, what do i n...   \n",
              "434                   i don't know how to make friends   \n",
              "312  what should i know before starting a new medic...   \n",
              "72                                            i am sad   \n",
              "\n",
              "                                                answer  \\\n",
              "86   It's only natural to feel this way. Tell me mo...   \n",
              "304  Since beginning treatment is a big step for in...   \n",
              "434  Feeling disconnected hurts. Would you like to ...   \n",
              "312  The best source of information regarding medic...   \n",
              "72   I'm sorry to hear that. I'm here for you. Talk...   \n",
              "\n",
              "                                               pattern        tag  \n",
              "86                                i can't do anything.  worthless  \n",
              "304  if i become involved in treatment, what do i n...    fact-16  \n",
              "434                   i don't know how to make friends    friends  \n",
              "312  what should i know before starting a new medic...    fact-20  \n",
              "72                                            i am sad        sad  "
            ],
            "text/html": [
              "\n",
              "  <div id=\"df-d2f6de68-40c8-4c68-aebc-270ee6a96e8b\" class=\"colab-df-container\">\n",
              "    <div>\n",
              "<style scoped>\n",
              "    .dataframe tbody tr th:only-of-type {\n",
              "        vertical-align: middle;\n",
              "    }\n",
              "\n",
              "    .dataframe tbody tr th {\n",
              "        vertical-align: top;\n",
              "    }\n",
              "\n",
              "    .dataframe thead th {\n",
              "        text-align: right;\n",
              "    }\n",
              "</style>\n",
              "<table border=\"1\" class=\"dataframe\">\n",
              "  <thead>\n",
              "    <tr style=\"text-align: right;\">\n",
              "      <th></th>\n",
              "      <th>question</th>\n",
              "      <th>answer</th>\n",
              "      <th>pattern</th>\n",
              "      <th>tag</th>\n",
              "    </tr>\n",
              "  </thead>\n",
              "  <tbody>\n",
              "    <tr>\n",
              "      <th>86</th>\n",
              "      <td>i can't do anything.</td>\n",
              "      <td>It's only natural to feel this way. Tell me mo...</td>\n",
              "      <td>i can't do anything.</td>\n",
              "      <td>worthless</td>\n",
              "    </tr>\n",
              "    <tr>\n",
              "      <th>304</th>\n",
              "      <td>if i become involved in treatment, what do i n...</td>\n",
              "      <td>Since beginning treatment is a big step for in...</td>\n",
              "      <td>if i become involved in treatment, what do i n...</td>\n",
              "      <td>fact-16</td>\n",
              "    </tr>\n",
              "    <tr>\n",
              "      <th>434</th>\n",
              "      <td>i don't know how to make friends</td>\n",
              "      <td>Feeling disconnected hurts. Would you like to ...</td>\n",
              "      <td>i don't know how to make friends</td>\n",
              "      <td>friends</td>\n",
              "    </tr>\n",
              "    <tr>\n",
              "      <th>312</th>\n",
              "      <td>what should i know before starting a new medic...</td>\n",
              "      <td>The best source of information regarding medic...</td>\n",
              "      <td>what should i know before starting a new medic...</td>\n",
              "      <td>fact-20</td>\n",
              "    </tr>\n",
              "    <tr>\n",
              "      <th>72</th>\n",
              "      <td>i am sad</td>\n",
              "      <td>I'm sorry to hear that. I'm here for you. Talk...</td>\n",
              "      <td>i am sad</td>\n",
              "      <td>sad</td>\n",
              "    </tr>\n",
              "  </tbody>\n",
              "</table>\n",
              "</div>\n",
              "    <div class=\"colab-df-buttons\">\n",
              "\n",
              "  <div class=\"colab-df-container\">\n",
              "    <button class=\"colab-df-convert\" onclick=\"convertToInteractive('df-d2f6de68-40c8-4c68-aebc-270ee6a96e8b')\"\n",
              "            title=\"Convert this dataframe to an interactive table.\"\n",
              "            style=\"display:none;\">\n",
              "\n",
              "  <svg xmlns=\"http://www.w3.org/2000/svg\" height=\"24px\" viewBox=\"0 -960 960 960\">\n",
              "    <path d=\"M120-120v-720h720v720H120Zm60-500h600v-160H180v160Zm220 220h160v-160H400v160Zm0 220h160v-160H400v160ZM180-400h160v-160H180v160Zm440 0h160v-160H620v160ZM180-180h160v-160H180v160Zm440 0h160v-160H620v160Z\"/>\n",
              "  </svg>\n",
              "    </button>\n",
              "\n",
              "  <style>\n",
              "    .colab-df-container {\n",
              "      display:flex;\n",
              "      gap: 12px;\n",
              "    }\n",
              "\n",
              "    .colab-df-convert {\n",
              "      background-color: #E8F0FE;\n",
              "      border: none;\n",
              "      border-radius: 50%;\n",
              "      cursor: pointer;\n",
              "      display: none;\n",
              "      fill: #1967D2;\n",
              "      height: 32px;\n",
              "      padding: 0 0 0 0;\n",
              "      width: 32px;\n",
              "    }\n",
              "\n",
              "    .colab-df-convert:hover {\n",
              "      background-color: #E2EBFA;\n",
              "      box-shadow: 0px 1px 2px rgba(60, 64, 67, 0.3), 0px 1px 3px 1px rgba(60, 64, 67, 0.15);\n",
              "      fill: #174EA6;\n",
              "    }\n",
              "\n",
              "    .colab-df-buttons div {\n",
              "      margin-bottom: 4px;\n",
              "    }\n",
              "\n",
              "    [theme=dark] .colab-df-convert {\n",
              "      background-color: #3B4455;\n",
              "      fill: #D2E3FC;\n",
              "    }\n",
              "\n",
              "    [theme=dark] .colab-df-convert:hover {\n",
              "      background-color: #434B5C;\n",
              "      box-shadow: 0px 1px 3px 1px rgba(0, 0, 0, 0.15);\n",
              "      filter: drop-shadow(0px 1px 2px rgba(0, 0, 0, 0.3));\n",
              "      fill: #FFFFFF;\n",
              "    }\n",
              "  </style>\n",
              "\n",
              "    <script>\n",
              "      const buttonEl =\n",
              "        document.querySelector('#df-d2f6de68-40c8-4c68-aebc-270ee6a96e8b button.colab-df-convert');\n",
              "      buttonEl.style.display =\n",
              "        google.colab.kernel.accessAllowed ? 'block' : 'none';\n",
              "\n",
              "      async function convertToInteractive(key) {\n",
              "        const element = document.querySelector('#df-d2f6de68-40c8-4c68-aebc-270ee6a96e8b');\n",
              "        const dataTable =\n",
              "          await google.colab.kernel.invokeFunction('convertToInteractive',\n",
              "                                                    [key], {});\n",
              "        if (!dataTable) return;\n",
              "\n",
              "        const docLinkHtml = 'Like what you see? Visit the ' +\n",
              "          '<a target=\"_blank\" href=https://colab.research.google.com/notebooks/data_table.ipynb>data table notebook</a>'\n",
              "          + ' to learn more about interactive tables.';\n",
              "        element.innerHTML = '';\n",
              "        dataTable['output_type'] = 'display_data';\n",
              "        await google.colab.output.renderOutput(dataTable, element);\n",
              "        const docLink = document.createElement('div');\n",
              "        docLink.innerHTML = docLinkHtml;\n",
              "        element.appendChild(docLink);\n",
              "      }\n",
              "    </script>\n",
              "  </div>\n",
              "\n",
              "\n",
              "    <div id=\"df-fdc2164f-0b77-435d-944a-05ceaeffeb4e\">\n",
              "      <button class=\"colab-df-quickchart\" onclick=\"quickchart('df-fdc2164f-0b77-435d-944a-05ceaeffeb4e')\"\n",
              "                title=\"Suggest charts\"\n",
              "                style=\"display:none;\">\n",
              "\n",
              "<svg xmlns=\"http://www.w3.org/2000/svg\" height=\"24px\"viewBox=\"0 0 24 24\"\n",
              "     width=\"24px\">\n",
              "    <g>\n",
              "        <path d=\"M19 3H5c-1.1 0-2 .9-2 2v14c0 1.1.9 2 2 2h14c1.1 0 2-.9 2-2V5c0-1.1-.9-2-2-2zM9 17H7v-7h2v7zm4 0h-2V7h2v10zm4 0h-2v-4h2v4z\"/>\n",
              "    </g>\n",
              "</svg>\n",
              "      </button>\n",
              "\n",
              "<style>\n",
              "  .colab-df-quickchart {\n",
              "      --bg-color: #E8F0FE;\n",
              "      --fill-color: #1967D2;\n",
              "      --hover-bg-color: #E2EBFA;\n",
              "      --hover-fill-color: #174EA6;\n",
              "      --disabled-fill-color: #AAA;\n",
              "      --disabled-bg-color: #DDD;\n",
              "  }\n",
              "\n",
              "  [theme=dark] .colab-df-quickchart {\n",
              "      --bg-color: #3B4455;\n",
              "      --fill-color: #D2E3FC;\n",
              "      --hover-bg-color: #434B5C;\n",
              "      --hover-fill-color: #FFFFFF;\n",
              "      --disabled-bg-color: #3B4455;\n",
              "      --disabled-fill-color: #666;\n",
              "  }\n",
              "\n",
              "  .colab-df-quickchart {\n",
              "    background-color: var(--bg-color);\n",
              "    border: none;\n",
              "    border-radius: 50%;\n",
              "    cursor: pointer;\n",
              "    display: none;\n",
              "    fill: var(--fill-color);\n",
              "    height: 32px;\n",
              "    padding: 0;\n",
              "    width: 32px;\n",
              "  }\n",
              "\n",
              "  .colab-df-quickchart:hover {\n",
              "    background-color: var(--hover-bg-color);\n",
              "    box-shadow: 0 1px 2px rgba(60, 64, 67, 0.3), 0 1px 3px 1px rgba(60, 64, 67, 0.15);\n",
              "    fill: var(--button-hover-fill-color);\n",
              "  }\n",
              "\n",
              "  .colab-df-quickchart-complete:disabled,\n",
              "  .colab-df-quickchart-complete:disabled:hover {\n",
              "    background-color: var(--disabled-bg-color);\n",
              "    fill: var(--disabled-fill-color);\n",
              "    box-shadow: none;\n",
              "  }\n",
              "\n",
              "  .colab-df-spinner {\n",
              "    border: 2px solid var(--fill-color);\n",
              "    border-color: transparent;\n",
              "    border-bottom-color: var(--fill-color);\n",
              "    animation:\n",
              "      spin 1s steps(1) infinite;\n",
              "  }\n",
              "\n",
              "  @keyframes spin {\n",
              "    0% {\n",
              "      border-color: transparent;\n",
              "      border-bottom-color: var(--fill-color);\n",
              "      border-left-color: var(--fill-color);\n",
              "    }\n",
              "    20% {\n",
              "      border-color: transparent;\n",
              "      border-left-color: var(--fill-color);\n",
              "      border-top-color: var(--fill-color);\n",
              "    }\n",
              "    30% {\n",
              "      border-color: transparent;\n",
              "      border-left-color: var(--fill-color);\n",
              "      border-top-color: var(--fill-color);\n",
              "      border-right-color: var(--fill-color);\n",
              "    }\n",
              "    40% {\n",
              "      border-color: transparent;\n",
              "      border-right-color: var(--fill-color);\n",
              "      border-top-color: var(--fill-color);\n",
              "    }\n",
              "    60% {\n",
              "      border-color: transparent;\n",
              "      border-right-color: var(--fill-color);\n",
              "    }\n",
              "    80% {\n",
              "      border-color: transparent;\n",
              "      border-right-color: var(--fill-color);\n",
              "      border-bottom-color: var(--fill-color);\n",
              "    }\n",
              "    90% {\n",
              "      border-color: transparent;\n",
              "      border-bottom-color: var(--fill-color);\n",
              "    }\n",
              "  }\n",
              "</style>\n",
              "\n",
              "      <script>\n",
              "        async function quickchart(key) {\n",
              "          const quickchartButtonEl =\n",
              "            document.querySelector('#' + key + ' button');\n",
              "          quickchartButtonEl.disabled = true;  // To prevent multiple clicks.\n",
              "          quickchartButtonEl.classList.add('colab-df-spinner');\n",
              "          try {\n",
              "            const charts = await google.colab.kernel.invokeFunction(\n",
              "                'suggestCharts', [key], {});\n",
              "          } catch (error) {\n",
              "            console.error('Error during call to suggestCharts:', error);\n",
              "          }\n",
              "          quickchartButtonEl.classList.remove('colab-df-spinner');\n",
              "          quickchartButtonEl.classList.add('colab-df-quickchart-complete');\n",
              "        }\n",
              "        (() => {\n",
              "          let quickchartButtonEl =\n",
              "            document.querySelector('#df-fdc2164f-0b77-435d-944a-05ceaeffeb4e button');\n",
              "          quickchartButtonEl.style.display =\n",
              "            google.colab.kernel.accessAllowed ? 'block' : 'none';\n",
              "        })();\n",
              "      </script>\n",
              "    </div>\n",
              "\n",
              "    </div>\n",
              "  </div>\n"
            ],
            "application/vnd.google.colaboratory.intrinsic+json": {
              "type": "dataframe",
              "summary": "{\n  \"name\": \"df\",\n  \"rows\": 5,\n  \"fields\": [\n    {\n      \"column\": \"question\",\n      \"properties\": {\n        \"dtype\": \"string\",\n        \"num_unique_values\": 5,\n        \"samples\": [\n          \"if i become involved in treatment, what do i need to know?\",\n          \"i am sad\",\n          \"i don't know how to make friends\"\n        ],\n        \"semantic_type\": \"\",\n        \"description\": \"\"\n      }\n    },\n    {\n      \"column\": \"answer\",\n      \"properties\": {\n        \"dtype\": \"string\",\n        \"num_unique_values\": 5,\n        \"samples\": [\n          \"Since beginning treatment is a big step for individuals and families, it can be very overwhelming. It is important to be as involved and engaged in the treatment process as possible. Some questions you will need to have answered include:\\n What is known about the cause of this particular illness?\\n Are there other diagnoses where these symptoms are common?\\n Do you normally include a physical or neurological examination?\\n Are there any additional tests or exams that you would recommend at this point?\\n Would you advise an independent opinion from another psychiatrist at this point?\\n What program of treatment is the most helpful with this diagnosis?\\n Will this program involve services by other specialists? If so, who will be responsible for coordinating these services?\\n What do you see as the family's role in this program of treatment?\\n How much access will the family have to the individuals who are providing the treatment?\\n What medications are generally used with this diagnosis?\\n How much experience do you have in treating individuals with this illness?\\n What can I do to help you in the treatment?\",\n          \"I'm sorry to hear that. I'm here for you. Talking about it might help. So, tell me why do you think you're feeling this way?\",\n          \"Feeling disconnected hurts. Would you like to plan one small step to reach out this week?\"\n        ],\n        \"semantic_type\": \"\",\n        \"description\": \"\"\n      }\n    },\n    {\n      \"column\": \"pattern\",\n      \"properties\": {\n        \"dtype\": \"string\",\n        \"num_unique_values\": 5,\n        \"samples\": [\n          \"if i become involved in treatment, what do i need to know?\",\n          \"i am sad\",\n          \"i don't know how to make friends\"\n        ],\n        \"semantic_type\": \"\",\n        \"description\": \"\"\n      }\n    },\n    {\n      \"column\": \"tag\",\n      \"properties\": {\n        \"dtype\": \"string\",\n        \"num_unique_values\": 5,\n        \"samples\": [\n          \"fact-16\",\n          \"sad\",\n          \"friends\"\n        ],\n        \"semantic_type\": \"\",\n        \"description\": \"\"\n      }\n    }\n  ]\n}"
            }
          },
          "metadata": {},
          "execution_count": 4
        }
      ],
      "source": [
        "\n",
        "# Load dataset\n",
        "import tabulate\n",
        "\n",
        "df = pd.read_csv(\"data/mental_health_training.csv\")\n",
        "print(\"Dataset Overview:\")\n",
        "df.sample(n=5, random_state=42)"
      ]
    },
    {
      "cell_type": "markdown",
      "metadata": {
        "id": "q0fZjaT7bcvB"
      },
      "source": [
        "### Creating Intents Dictionary\n",
        "This cell converts the dataset into an intents JSON for a chatbot.\n",
        "\n",
        "For each row, it normalizes the question text and breaks it into short pattern variants, optionally adds any provided pattern, and pairs the resulting patterns with the row’s tag and answer.\n",
        "\n",
        "These pieces are organized into a list of intent objects, a small preview is printed for a quick sanity check, and the finalized structure is saved to `../Data/intents.json` for later use (handling missing fields gracefully).\n",
        "\n"
      ]
    },
    {
      "cell_type": "code",
      "execution_count": 6,
      "metadata": {
        "colab": {
          "base_uri": "https://localhost:8080/"
        },
        "id": "U-HTKGP6bcvB",
        "outputId": "9fb659af-8218-4d23-98bb-82bb809a9c01"
      },
      "outputs": [
        {
          "output_type": "stream",
          "name": "stdout",
          "text": [
            " Some Intents from the dataset:\n",
            "[{'tags': ['greeting'], 'patterns': ['hi', 'hi'], 'responses': ['Hello there. Tell me how are you feeling today?']}, {'tags': ['greeting'], 'patterns': ['hey', 'hey'], 'responses': ['Hello there. Tell me how are you feeling today?']}]\n"
          ]
        }
      ],
      "source": [
        "# Creating intents dictionary\n",
        "dict_ = {\"intents\": []}\n",
        "\n",
        "for ind in df.index:\n",
        "    question = df['question'][ind]\n",
        "    if pd.notna(question):\n",
        "        questions = question.lower().replace('?', '.').split('.')\n",
        "    else:\n",
        "        questions = []\n",
        "\n",
        "    patterns = [q.strip() for q in questions if q.strip()]\n",
        "    pattern = df['pattern'][ind]\n",
        "    if pd.notna(pattern):\n",
        "        patterns.append(pattern.lower().strip())\n",
        "\n",
        "    responses = df['answer'][ind]\n",
        "    tag = df['tag'][ind]\n",
        "\n",
        "    dict1 = {'tags': [tag], 'patterns': patterns, 'responses': [responses]}\n",
        "    dict_['intents'].append(dict1)\n",
        "print(\" Some Intents from the dataset:\")\n",
        "print(dict_[\"intents\"][:2])\n",
        "\n",
        "with open(\"data/intents.json\", \"w\") as f:\n",
        "    json.dump(dict_, f)"
      ]
    },
    {
      "cell_type": "code",
      "execution_count": 7,
      "metadata": {
        "colab": {
          "base_uri": "https://localhost:8080/"
        },
        "id": "j8q5FxfVbcvC",
        "outputId": "01dff093-b777-452b-d05d-11d86732b54d"
      },
      "outputs": [
        {
          "output_type": "stream",
          "name": "stdout",
          "text": [
            "0             hi\n",
            "1            hey\n",
            "2         anyone\n",
            "3         anyone\n",
            "3         there?\n",
            "         ...    \n",
            "638    disappear\n",
            "639         want\n",
            "639    disappear\n",
            "640         want\n",
            "640    disappear\n",
            "Name: question, Length: 1547, dtype: object\n"
          ]
        },
        {
          "output_type": "stream",
          "name": "stderr",
          "text": [
            "[nltk_data] Downloading package stopwords to /root/nltk_data...\n",
            "[nltk_data]   Unzipping corpora/stopwords.zip.\n"
          ]
        }
      ],
      "source": [
        "from nltk.corpus import stopwords\n",
        "nltk.download('stopwords')\n",
        "\n",
        "stop_words = set(stopwords.words('english'))\n",
        "\n",
        "# Define the list of words\n",
        "words = df['question'].str.lower().str.split().explode()\n",
        "\n",
        "# Remove stopwords from the list of words\n",
        "words = words[~words.isin(stop_words)]\n",
        "\n",
        "print(words)"
      ]
    },
    {
      "cell_type": "markdown",
      "metadata": {
        "id": "xI54HhoZbcvC"
      },
      "source": [
        "- Handle missing values"
      ]
    },
    {
      "cell_type": "code",
      "execution_count": 8,
      "metadata": {
        "id": "tELew4FXbcvD"
      },
      "outputs": [],
      "source": [
        "df.dropna(inplace=True)\n"
      ]
    },
    {
      "cell_type": "markdown",
      "metadata": {
        "id": "ZE6eWs9xbcvD"
      },
      "source": [
        "- Remove duplicates"
      ]
    },
    {
      "cell_type": "code",
      "execution_count": 9,
      "metadata": {
        "id": "k4Yixv0abcvD"
      },
      "outputs": [],
      "source": [
        "df.drop_duplicates(inplace=True)\n"
      ]
    },
    {
      "cell_type": "markdown",
      "metadata": {
        "id": "m-9kpUrQbcvE"
      },
      "source": [
        "### Build vocabulary, labels, and BERT utilities\n",
        "\n",
        "This cell loads a pre-trained BERT tokenizer/model and defines a helper to produce mean-pooled sentence embeddings for later use.\n",
        "\n",
        "It tokenizes each pattern with BERT, records `(pattern, tag)` pairs, and builds a cleaned vocabulary by lowercasing and lemmatizing tokens while dropping simple punctuation. It also compiles the unique intent labels in `classes`.\n"
      ]
    },
    {
      "cell_type": "code",
      "execution_count": 11,
      "metadata": {
        "id": "UY7X994lbcvE"
      },
      "outputs": [],
      "source": [
        "import torch\n",
        "from transformers import AutoTokenizer, AutoModel\n",
        "from nltk.stem import WordNetLemmatizer\n",
        "import pickle\n",
        "\n",
        "# Load pre-trained BERT model and tokenizer\n",
        "tokenizer = AutoTokenizer.from_pretrained(\"bert-base-uncased\")\n",
        "bert_model = AutoModel.from_pretrained(\"bert-base-uncased\")\n",
        "\n",
        "words = []\n",
        "classes = []\n",
        "documents = []\n",
        "ignore_letters = ['?', '!', '.', ',']\n",
        "lemmatizer = WordNetLemmatizer()\n",
        "\n",
        "def get_bert_embedding(sentence):\n",
        "    inputs = tokenizer(sentence, return_tensors='pt', padding=True, truncation=True)\n",
        "    with torch.no_grad():\n",
        "        outputs = bert_model(**inputs)\n",
        "    return outputs.last_hidden_state.mean(dim=1).detach().numpy()\n",
        "\n",
        "for intent in dict_['intents']:\n",
        "    for pattern in intent['patterns']:\n",
        "        if isinstance(pattern, str):\n",
        "            word_list = tokenizer.tokenize(pattern)\n",
        "            words.extend(word_list)\n",
        "            documents.append((pattern, intent['tags'][0]))\n",
        "            if intent['tags'][0] not in classes:\n",
        "                classes.append(intent['tags'][0])\n",
        "\n",
        "words = [lemmatizer.lemmatize(word.lower()) for word in words if word not in ignore_letters]\n",
        "words = sorted(set(words))\n",
        "classes = sorted(set(classes))\n",
        "\n",
        "pickle.dump(words, open('data/words.pkl', 'wb'))\n",
        "pickle.dump(classes, open('data/classes.pkl', 'wb'))"
      ]
    },
    {
      "cell_type": "markdown",
      "metadata": {
        "id": "XvfVUTFObcvE"
      },
      "source": [
        "### Prepare BERT training data\n",
        "\n",
        "This cell turns the pairs into model-ready arrays: it fits a label binarizer on classes to create one-hot labels, computes a BERT embedding for each pattern , pairs each embedding with its label, shuffles the samples, and finally builds train_x (embedding vectors) and train_y (one-hot tags) as NumPy arrays for downstream training.\n"
      ]
    },
    {
      "cell_type": "code",
      "execution_count": 12,
      "metadata": {
        "id": "6gL1eamLbcvE"
      },
      "outputs": [],
      "source": [
        "# Prepare training data\n",
        "from sklearn.naive_bayes import LabelBinarizer\n",
        "\n",
        "\n",
        "\n",
        "label_binarizer = LabelBinarizer()\n",
        "label_binarizer.fit(classes)\n",
        "\n",
        "training = []\n",
        "for document in documents:\n",
        "    pattern = document[0]\n",
        "    tag = document[1]\n",
        "    embedding = get_bert_embedding(pattern)\n",
        "    output_row = label_binarizer.transform([tag])[0]\n",
        "    training.append((embedding.flatten(), output_row))\n",
        "\n",
        "random.shuffle(training)\n",
        "training = np.array(training, dtype=object)\n",
        "\n",
        "train_x = np.array([item[0] for item in training])\n",
        "train_y = np.array([item[1] for item in training])"
      ]
    },
    {
      "cell_type": "markdown",
      "metadata": {
        "id": "Hl0BszkSbcvF"
      },
      "source": [
        "### Train/validation split and learning-rate schedule\n",
        "\n",
        "This cell partitions the feature and label arrays into training (80%) and validation (20%) sets and defines an exponential-decay learning-rate schedule for downstream model train\n"
      ]
    },
    {
      "cell_type": "code",
      "execution_count": 13,
      "metadata": {
        "id": "bXSqone6bcvF"
      },
      "outputs": [],
      "source": [
        "from tensorflow.keras.optimizers.schedules import ExponentialDecay\n",
        "\n",
        "# Splitting data into training and validation sets (80% training, 20% validation)\n",
        "split_idx = int(0.8 * len(train_x))\n",
        "X_train, X_val = train_x[:split_idx], train_x[split_idx:]\n",
        "y_train, y_val = train_y[:split_idx], train_y[split_idx:]\n",
        "\n",
        "# Define learning rate schedule\n",
        "lr_schedule = ExponentialDecay(\n",
        "    initial_learning_rate=0.0001,\n",
        "    decay_steps=100000,\n",
        "    decay_rate=0.96,\n",
        "    staircase=True\n",
        ")"
      ]
    },
    {
      "cell_type": "markdown",
      "metadata": {
        "id": "2UfgCtpgbcvF"
      },
      "source": [
        "### Define and compile a regularized feed-forward classifier\n",
        "\n",
        "This cell builds a dense neural network for intent classification—two ReLU layers (128 → 64) with L2 regularization and 40% dropout, followed by a softmax output sized to the number of classes (input is the embedding vector length). It sets an exponential-decay learning-rate and prepares an SGD optimizer with momentum/Nesterov, then compiles the model with Adam using categorical cross-entropy while tracking accuracy, precision, and recall, and prints a model summary.\n"
      ]
    },
    {
      "cell_type": "code",
      "execution_count": 14,
      "metadata": {
        "colab": {
          "base_uri": "https://localhost:8080/",
          "height": 344
        },
        "id": "g3cBgiAQbcvF",
        "outputId": "3331486a-d5a5-4b55-8517-b73f2a31c711"
      },
      "outputs": [
        {
          "output_type": "stream",
          "name": "stderr",
          "text": [
            "/usr/local/lib/python3.12/dist-packages/keras/src/layers/core/dense.py:93: UserWarning: Do not pass an `input_shape`/`input_dim` argument to a layer. When using Sequential models, prefer using an `Input(shape)` object as the first layer in the model instead.\n",
            "  super().__init__(activity_regularizer=activity_regularizer, **kwargs)\n"
          ]
        },
        {
          "output_type": "display_data",
          "data": {
            "text/plain": [
              "\u001b[1mModel: \"sequential\"\u001b[0m\n"
            ],
            "text/html": [
              "<pre style=\"white-space:pre;overflow-x:auto;line-height:normal;font-family:Menlo,'DejaVu Sans Mono',consolas,'Courier New',monospace\"><span style=\"font-weight: bold\">Model: \"sequential\"</span>\n",
              "</pre>\n"
            ]
          },
          "metadata": {}
        },
        {
          "output_type": "display_data",
          "data": {
            "text/plain": [
              "┏━━━━━━━━━━━━━━━━━━━━━━━━━━━━━━━━━┳━━━━━━━━━━━━━━━━━━━━━━━━┳━━━━━━━━━━━━━━━┓\n",
              "┃\u001b[1m \u001b[0m\u001b[1mLayer (type)                   \u001b[0m\u001b[1m \u001b[0m┃\u001b[1m \u001b[0m\u001b[1mOutput Shape          \u001b[0m\u001b[1m \u001b[0m┃\u001b[1m \u001b[0m\u001b[1m      Param #\u001b[0m\u001b[1m \u001b[0m┃\n",
              "┡━━━━━━━━━━━━━━━━━━━━━━━━━━━━━━━━━╇━━━━━━━━━━━━━━━━━━━━━━━━╇━━━━━━━━━━━━━━━┩\n",
              "│ dense (\u001b[38;5;33mDense\u001b[0m)                   │ (\u001b[38;5;45mNone\u001b[0m, \u001b[38;5;34m128\u001b[0m)            │        \u001b[38;5;34m98,432\u001b[0m │\n",
              "├─────────────────────────────────┼────────────────────────┼───────────────┤\n",
              "│ dropout (\u001b[38;5;33mDropout\u001b[0m)               │ (\u001b[38;5;45mNone\u001b[0m, \u001b[38;5;34m128\u001b[0m)            │             \u001b[38;5;34m0\u001b[0m │\n",
              "├─────────────────────────────────┼────────────────────────┼───────────────┤\n",
              "│ dense_1 (\u001b[38;5;33mDense\u001b[0m)                 │ (\u001b[38;5;45mNone\u001b[0m, \u001b[38;5;34m64\u001b[0m)             │         \u001b[38;5;34m8,256\u001b[0m │\n",
              "├─────────────────────────────────┼────────────────────────┼───────────────┤\n",
              "│ dropout_1 (\u001b[38;5;33mDropout\u001b[0m)             │ (\u001b[38;5;45mNone\u001b[0m, \u001b[38;5;34m64\u001b[0m)             │             \u001b[38;5;34m0\u001b[0m │\n",
              "├─────────────────────────────────┼────────────────────────┼───────────────┤\n",
              "│ dense_2 (\u001b[38;5;33mDense\u001b[0m)                 │ (\u001b[38;5;45mNone\u001b[0m, \u001b[38;5;34m90\u001b[0m)             │         \u001b[38;5;34m5,850\u001b[0m │\n",
              "└─────────────────────────────────┴────────────────────────┴───────────────┘\n"
            ],
            "text/html": [
              "<pre style=\"white-space:pre;overflow-x:auto;line-height:normal;font-family:Menlo,'DejaVu Sans Mono',consolas,'Courier New',monospace\">┏━━━━━━━━━━━━━━━━━━━━━━━━━━━━━━━━━┳━━━━━━━━━━━━━━━━━━━━━━━━┳━━━━━━━━━━━━━━━┓\n",
              "┃<span style=\"font-weight: bold\"> Layer (type)                    </span>┃<span style=\"font-weight: bold\"> Output Shape           </span>┃<span style=\"font-weight: bold\">       Param # </span>┃\n",
              "┡━━━━━━━━━━━━━━━━━━━━━━━━━━━━━━━━━╇━━━━━━━━━━━━━━━━━━━━━━━━╇━━━━━━━━━━━━━━━┩\n",
              "│ dense (<span style=\"color: #0087ff; text-decoration-color: #0087ff\">Dense</span>)                   │ (<span style=\"color: #00d7ff; text-decoration-color: #00d7ff\">None</span>, <span style=\"color: #00af00; text-decoration-color: #00af00\">128</span>)            │        <span style=\"color: #00af00; text-decoration-color: #00af00\">98,432</span> │\n",
              "├─────────────────────────────────┼────────────────────────┼───────────────┤\n",
              "│ dropout (<span style=\"color: #0087ff; text-decoration-color: #0087ff\">Dropout</span>)               │ (<span style=\"color: #00d7ff; text-decoration-color: #00d7ff\">None</span>, <span style=\"color: #00af00; text-decoration-color: #00af00\">128</span>)            │             <span style=\"color: #00af00; text-decoration-color: #00af00\">0</span> │\n",
              "├─────────────────────────────────┼────────────────────────┼───────────────┤\n",
              "│ dense_1 (<span style=\"color: #0087ff; text-decoration-color: #0087ff\">Dense</span>)                 │ (<span style=\"color: #00d7ff; text-decoration-color: #00d7ff\">None</span>, <span style=\"color: #00af00; text-decoration-color: #00af00\">64</span>)             │         <span style=\"color: #00af00; text-decoration-color: #00af00\">8,256</span> │\n",
              "├─────────────────────────────────┼────────────────────────┼───────────────┤\n",
              "│ dropout_1 (<span style=\"color: #0087ff; text-decoration-color: #0087ff\">Dropout</span>)             │ (<span style=\"color: #00d7ff; text-decoration-color: #00d7ff\">None</span>, <span style=\"color: #00af00; text-decoration-color: #00af00\">64</span>)             │             <span style=\"color: #00af00; text-decoration-color: #00af00\">0</span> │\n",
              "├─────────────────────────────────┼────────────────────────┼───────────────┤\n",
              "│ dense_2 (<span style=\"color: #0087ff; text-decoration-color: #0087ff\">Dense</span>)                 │ (<span style=\"color: #00d7ff; text-decoration-color: #00d7ff\">None</span>, <span style=\"color: #00af00; text-decoration-color: #00af00\">90</span>)             │         <span style=\"color: #00af00; text-decoration-color: #00af00\">5,850</span> │\n",
              "└─────────────────────────────────┴────────────────────────┴───────────────┘\n",
              "</pre>\n"
            ]
          },
          "metadata": {}
        },
        {
          "output_type": "display_data",
          "data": {
            "text/plain": [
              "\u001b[1m Total params: \u001b[0m\u001b[38;5;34m112,538\u001b[0m (439.60 KB)\n"
            ],
            "text/html": [
              "<pre style=\"white-space:pre;overflow-x:auto;line-height:normal;font-family:Menlo,'DejaVu Sans Mono',consolas,'Courier New',monospace\"><span style=\"font-weight: bold\"> Total params: </span><span style=\"color: #00af00; text-decoration-color: #00af00\">112,538</span> (439.60 KB)\n",
              "</pre>\n"
            ]
          },
          "metadata": {}
        },
        {
          "output_type": "display_data",
          "data": {
            "text/plain": [
              "\u001b[1m Trainable params: \u001b[0m\u001b[38;5;34m112,538\u001b[0m (439.60 KB)\n"
            ],
            "text/html": [
              "<pre style=\"white-space:pre;overflow-x:auto;line-height:normal;font-family:Menlo,'DejaVu Sans Mono',consolas,'Courier New',monospace\"><span style=\"font-weight: bold\"> Trainable params: </span><span style=\"color: #00af00; text-decoration-color: #00af00\">112,538</span> (439.60 KB)\n",
              "</pre>\n"
            ]
          },
          "metadata": {}
        },
        {
          "output_type": "display_data",
          "data": {
            "text/plain": [
              "\u001b[1m Non-trainable params: \u001b[0m\u001b[38;5;34m0\u001b[0m (0.00 B)\n"
            ],
            "text/html": [
              "<pre style=\"white-space:pre;overflow-x:auto;line-height:normal;font-family:Menlo,'DejaVu Sans Mono',consolas,'Courier New',monospace\"><span style=\"font-weight: bold\"> Non-trainable params: </span><span style=\"color: #00af00; text-decoration-color: #00af00\">0</span> (0.00 B)\n",
              "</pre>\n"
            ]
          },
          "metadata": {}
        }
      ],
      "source": [
        "from tensorflow.keras.optimizers.schedules import ExponentialDecay\n",
        "from tensorflow.keras.models import Sequential\n",
        "from tensorflow.keras.layers import Dense, Dropout\n",
        "from tensorflow.keras.regularizers import l2\n",
        "from tensorflow.keras.optimizers import SGD\n",
        "\n",
        "# Define model architecture with regularization (NO BATCH NORMALIZATION)\n",
        "model = Sequential([\n",
        "    Dense(128, input_shape=(len(train_x[1]),), activation='relu', kernel_regularizer=l2(0.01)),\n",
        "    Dropout(0.4),\n",
        "\n",
        "    Dense(64, activation='relu', kernel_regularizer=l2(0.01)),\n",
        "    Dropout(0.4),\n",
        "\n",
        "    Dense(len(train_y[0]), activation='softmax')\n",
        "])\n",
        "\n",
        "# Define learning rate schedule\n",
        "lr_schedule = ExponentialDecay(\n",
        "    initial_learning_rate=0.0001,\n",
        "    decay_steps=100000,\n",
        "    decay_rate=0.96,\n",
        "    staircase=True\n",
        ")\n",
        "\n",
        "# Use the SGD optimizer with the learning rate schedule\n",
        "sgd = SGD(learning_rate=lr_schedule, momentum=0.9, nesterov=True)\n",
        "\n",
        "# Compile with Adam optimizer\n",
        "model.compile(loss='categorical_crossentropy', optimizer='adam', metrics=['accuracy', 'Precision', 'Recall'])\n",
        "\n",
        "# Model summary\n",
        "model.summary()\n"
      ]
    },
    {
      "cell_type": "code",
      "execution_count": 15,
      "metadata": {
        "colab": {
          "base_uri": "https://localhost:8080/"
        },
        "id": "wDz7X6mMbcvG",
        "outputId": "bfeebbf5-b017-497f-fb2c-0483ff4e5960"
      },
      "outputs": [
        {
          "output_type": "stream",
          "name": "stdout",
          "text": [
            "Epoch 1/50\n",
            "\u001b[1m86/86\u001b[0m \u001b[32m━━━━━━━━━━━━━━━━━━━━\u001b[0m\u001b[37m\u001b[0m \u001b[1m3s\u001b[0m 16ms/step - Precision: 0.0000e+00 - Recall: 0.0000e+00 - accuracy: 0.0287 - loss: 6.9257 - val_Precision: 0.0000e+00 - val_Recall: 0.0000e+00 - val_accuracy: 0.0849 - val_loss: 5.4055\n",
            "Epoch 2/50\n",
            "\u001b[1m86/86\u001b[0m \u001b[32m━━━━━━━━━━━━━━━━━━━━\u001b[0m\u001b[37m\u001b[0m \u001b[1m1s\u001b[0m 7ms/step - Precision: 0.0000e+00 - Recall: 0.0000e+00 - accuracy: 0.0844 - loss: 5.1782 - val_Precision: 0.0000e+00 - val_Recall: 0.0000e+00 - val_accuracy: 0.1622 - val_loss: 4.4592\n",
            "Epoch 3/50\n",
            "\u001b[1m86/86\u001b[0m \u001b[32m━━━━━━━━━━━━━━━━━━━━\u001b[0m\u001b[37m\u001b[0m \u001b[1m0s\u001b[0m 5ms/step - Precision: 0.0939 - Recall: 3.3400e-04 - accuracy: 0.1656 - loss: 4.2774 - val_Precision: 0.0000e+00 - val_Recall: 0.0000e+00 - val_accuracy: 0.4402 - val_loss: 3.7699\n",
            "Epoch 4/50\n",
            "\u001b[1m86/86\u001b[0m \u001b[32m━━━━━━━━━━━━━━━━━━━━\u001b[0m\u001b[37m\u001b[0m \u001b[1m0s\u001b[0m 5ms/step - Precision: 0.6482 - Recall: 0.0170 - accuracy: 0.2214 - loss: 3.8265 - val_Precision: 0.0000e+00 - val_Recall: 0.0000e+00 - val_accuracy: 0.5483 - val_loss: 3.3796\n",
            "Epoch 5/50\n",
            "\u001b[1m86/86\u001b[0m \u001b[32m━━━━━━━━━━━━━━━━━━━━\u001b[0m\u001b[37m\u001b[0m \u001b[1m0s\u001b[0m 5ms/step - Precision: 0.8210 - Recall: 0.0570 - accuracy: 0.3398 - loss: 3.4342 - val_Precision: 1.0000 - val_Recall: 0.0386 - val_accuracy: 0.5792 - val_loss: 3.0743\n",
            "Epoch 6/50\n",
            "\u001b[1m86/86\u001b[0m \u001b[32m━━━━━━━━━━━━━━━━━━━━\u001b[0m\u001b[37m\u001b[0m \u001b[1m0s\u001b[0m 5ms/step - Precision: 0.8063 - Recall: 0.0697 - accuracy: 0.3728 - loss: 3.2528 - val_Precision: 1.0000 - val_Recall: 0.1004 - val_accuracy: 0.6371 - val_loss: 2.8578\n",
            "Epoch 7/50\n",
            "\u001b[1m86/86\u001b[0m \u001b[32m━━━━━━━━━━━━━━━━━━━━\u001b[0m\u001b[37m\u001b[0m \u001b[1m0s\u001b[0m 5ms/step - Precision: 0.8855 - Recall: 0.1226 - accuracy: 0.4262 - loss: 3.0319 - val_Precision: 0.9815 - val_Recall: 0.2046 - val_accuracy: 0.5985 - val_loss: 2.6855\n",
            "Epoch 8/50\n",
            "\u001b[1m86/86\u001b[0m \u001b[32m━━━━━━━━━━━━━━━━━━━━\u001b[0m\u001b[37m\u001b[0m \u001b[1m0s\u001b[0m 5ms/step - Precision: 0.8793 - Recall: 0.1738 - accuracy: 0.4753 - loss: 2.8917 - val_Precision: 1.0000 - val_Recall: 0.2664 - val_accuracy: 0.6988 - val_loss: 2.4629\n",
            "Epoch 9/50\n",
            "\u001b[1m86/86\u001b[0m \u001b[32m━━━━━━━━━━━━━━━━━━━━\u001b[0m\u001b[37m\u001b[0m \u001b[1m0s\u001b[0m 5ms/step - Precision: 0.8650 - Recall: 0.2147 - accuracy: 0.5237 - loss: 2.6765 - val_Precision: 0.9756 - val_Recall: 0.3089 - val_accuracy: 0.7104 - val_loss: 2.3928\n",
            "Epoch 10/50\n",
            "\u001b[1m86/86\u001b[0m \u001b[32m━━━━━━━━━━━━━━━━━━━━\u001b[0m\u001b[37m\u001b[0m \u001b[1m0s\u001b[0m 5ms/step - Precision: 0.8781 - Recall: 0.2488 - accuracy: 0.5146 - loss: 2.6130 - val_Precision: 1.0000 - val_Recall: 0.3398 - val_accuracy: 0.7452 - val_loss: 2.2983\n",
            "Epoch 11/50\n",
            "\u001b[1m86/86\u001b[0m \u001b[32m━━━━━━━━━━━━━━━━━━━━\u001b[0m\u001b[37m\u001b[0m \u001b[1m0s\u001b[0m 5ms/step - Precision: 0.8806 - Recall: 0.2672 - accuracy: 0.5486 - loss: 2.5247 - val_Precision: 1.0000 - val_Recall: 0.4247 - val_accuracy: 0.7645 - val_loss: 2.1295\n",
            "Epoch 12/50\n",
            "\u001b[1m86/86\u001b[0m \u001b[32m━━━━━━━━━━━━━━━━━━━━\u001b[0m\u001b[37m\u001b[0m \u001b[1m0s\u001b[0m 5ms/step - Precision: 0.8411 - Recall: 0.2847 - accuracy: 0.5944 - loss: 2.4203 - val_Precision: 0.9821 - val_Recall: 0.4247 - val_accuracy: 0.7761 - val_loss: 2.1046\n",
            "Epoch 13/50\n",
            "\u001b[1m86/86\u001b[0m \u001b[32m━━━━━━━━━━━━━━━━━━━━\u001b[0m\u001b[37m\u001b[0m \u001b[1m0s\u001b[0m 5ms/step - Precision: 0.8869 - Recall: 0.3069 - accuracy: 0.5841 - loss: 2.3929 - val_Precision: 0.9688 - val_Recall: 0.4788 - val_accuracy: 0.7915 - val_loss: 2.0300\n",
            "Epoch 14/50\n",
            "\u001b[1m86/86\u001b[0m \u001b[32m━━━━━━━━━━━━━━━━━━━━\u001b[0m\u001b[37m\u001b[0m \u001b[1m0s\u001b[0m 5ms/step - Precision: 0.9044 - Recall: 0.3333 - accuracy: 0.6046 - loss: 2.3362 - val_Precision: 0.9832 - val_Recall: 0.4517 - val_accuracy: 0.8185 - val_loss: 2.0298\n",
            "Epoch 15/50\n",
            "\u001b[1m86/86\u001b[0m \u001b[32m━━━━━━━━━━━━━━━━━━━━\u001b[0m\u001b[37m\u001b[0m \u001b[1m0s\u001b[0m 5ms/step - Precision: 0.9158 - Recall: 0.3490 - accuracy: 0.6117 - loss: 2.3025 - val_Precision: 0.9710 - val_Recall: 0.5174 - val_accuracy: 0.8069 - val_loss: 1.9240\n",
            "Epoch 16/50\n",
            "\u001b[1m86/86\u001b[0m \u001b[32m━━━━━━━━━━━━━━━━━━━━\u001b[0m\u001b[37m\u001b[0m \u001b[1m0s\u001b[0m 5ms/step - Precision: 0.8596 - Recall: 0.3570 - accuracy: 0.6362 - loss: 2.2088 - val_Precision: 1.0000 - val_Recall: 0.5444 - val_accuracy: 0.8340 - val_loss: 1.8448\n",
            "Epoch 17/50\n",
            "\u001b[1m86/86\u001b[0m \u001b[32m━━━━━━━━━━━━━━━━━━━━\u001b[0m\u001b[37m\u001b[0m \u001b[1m0s\u001b[0m 5ms/step - Precision: 0.8841 - Recall: 0.4341 - accuracy: 0.6886 - loss: 2.0566 - val_Precision: 0.9740 - val_Recall: 0.5792 - val_accuracy: 0.8185 - val_loss: 1.8148\n",
            "Epoch 18/50\n",
            "\u001b[1m86/86\u001b[0m \u001b[32m━━━━━━━━━━━━━━━━━━━━\u001b[0m\u001b[37m\u001b[0m \u001b[1m0s\u001b[0m 5ms/step - Precision: 0.9021 - Recall: 0.3969 - accuracy: 0.6816 - loss: 2.0978 - val_Precision: 0.9630 - val_Recall: 0.6023 - val_accuracy: 0.8610 - val_loss: 1.7829\n",
            "Epoch 19/50\n",
            "\u001b[1m86/86\u001b[0m \u001b[32m━━━━━━━━━━━━━━━━━━━━\u001b[0m\u001b[37m\u001b[0m \u001b[1m0s\u001b[0m 5ms/step - Precision: 0.8917 - Recall: 0.3681 - accuracy: 0.6623 - loss: 2.0936 - val_Precision: 0.9625 - val_Recall: 0.5946 - val_accuracy: 0.8147 - val_loss: 1.7705\n",
            "Epoch 20/50\n",
            "\u001b[1m86/86\u001b[0m \u001b[32m━━━━━━━━━━━━━━━━━━━━\u001b[0m\u001b[37m\u001b[0m \u001b[1m0s\u001b[0m 5ms/step - Precision: 0.8818 - Recall: 0.4488 - accuracy: 0.6761 - loss: 2.0358 - val_Precision: 0.9708 - val_Recall: 0.6409 - val_accuracy: 0.8533 - val_loss: 1.7151\n",
            "Epoch 21/50\n",
            "\u001b[1m86/86\u001b[0m \u001b[32m━━━━━━━━━━━━━━━━━━━━\u001b[0m\u001b[37m\u001b[0m \u001b[1m0s\u001b[0m 5ms/step - Precision: 0.8945 - Recall: 0.4439 - accuracy: 0.6862 - loss: 1.9830 - val_Precision: 0.9779 - val_Recall: 0.6834 - val_accuracy: 0.8687 - val_loss: 1.6041\n",
            "Epoch 22/50\n",
            "\u001b[1m86/86\u001b[0m \u001b[32m━━━━━━━━━━━━━━━━━━━━\u001b[0m\u001b[37m\u001b[0m \u001b[1m0s\u001b[0m 5ms/step - Precision: 0.9006 - Recall: 0.4570 - accuracy: 0.6905 - loss: 1.9347 - val_Precision: 1.0000 - val_Recall: 0.6564 - val_accuracy: 0.8803 - val_loss: 1.6151\n",
            "Epoch 23/50\n",
            "\u001b[1m86/86\u001b[0m \u001b[32m━━━━━━━━━━━━━━━━━━━━\u001b[0m\u001b[37m\u001b[0m \u001b[1m0s\u001b[0m 5ms/step - Precision: 0.9106 - Recall: 0.4764 - accuracy: 0.7368 - loss: 1.9018 - val_Precision: 0.9728 - val_Recall: 0.6911 - val_accuracy: 0.8842 - val_loss: 1.5858\n",
            "Epoch 24/50\n",
            "\u001b[1m86/86\u001b[0m \u001b[32m━━━━━━━━━━━━━━━━━━━━\u001b[0m\u001b[37m\u001b[0m \u001b[1m0s\u001b[0m 5ms/step - Precision: 0.9045 - Recall: 0.4944 - accuracy: 0.7335 - loss: 1.8599 - val_Precision: 0.9684 - val_Recall: 0.7104 - val_accuracy: 0.8996 - val_loss: 1.5343\n",
            "Epoch 25/50\n",
            "\u001b[1m86/86\u001b[0m \u001b[32m━━━━━━━━━━━━━━━━━━━━\u001b[0m\u001b[37m\u001b[0m \u001b[1m1s\u001b[0m 8ms/step - Precision: 0.9113 - Recall: 0.5008 - accuracy: 0.7481 - loss: 1.8343 - val_Precision: 0.9773 - val_Recall: 0.6641 - val_accuracy: 0.8880 - val_loss: 1.5589\n",
            "Epoch 26/50\n",
            "\u001b[1m86/86\u001b[0m \u001b[32m━━━━━━━━━━━━━━━━━━━━\u001b[0m\u001b[37m\u001b[0m \u001b[1m1s\u001b[0m 9ms/step - Precision: 0.8744 - Recall: 0.4708 - accuracy: 0.6929 - loss: 1.9487 - val_Precision: 0.9568 - val_Recall: 0.6834 - val_accuracy: 0.8764 - val_loss: 1.5431\n",
            "Epoch 27/50\n",
            "\u001b[1m86/86\u001b[0m \u001b[32m━━━━━━━━━━━━━━━━━━━━\u001b[0m\u001b[37m\u001b[0m \u001b[1m1s\u001b[0m 7ms/step - Precision: 0.8905 - Recall: 0.4987 - accuracy: 0.7293 - loss: 1.7957 - val_Precision: 0.9847 - val_Recall: 0.7452 - val_accuracy: 0.8996 - val_loss: 1.4932\n",
            "Epoch 28/50\n",
            "\u001b[1m86/86\u001b[0m \u001b[32m━━━━━━━━━━━━━━━━━━━━\u001b[0m\u001b[37m\u001b[0m \u001b[1m0s\u001b[0m 5ms/step - Precision: 0.9246 - Recall: 0.5736 - accuracy: 0.7710 - loss: 1.6844 - val_Precision: 0.9791 - val_Recall: 0.7220 - val_accuracy: 0.8958 - val_loss: 1.4962\n",
            "Epoch 29/50\n",
            "\u001b[1m86/86\u001b[0m \u001b[32m━━━━━━━━━━━━━━━━━━━━\u001b[0m\u001b[37m\u001b[0m \u001b[1m0s\u001b[0m 5ms/step - Precision: 0.9136 - Recall: 0.5083 - accuracy: 0.7352 - loss: 1.8354 - val_Precision: 0.9788 - val_Recall: 0.7143 - val_accuracy: 0.9266 - val_loss: 1.4753\n",
            "Epoch 30/50\n",
            "\u001b[1m86/86\u001b[0m \u001b[32m━━━━━━━━━━━━━━━━━━━━\u001b[0m\u001b[37m\u001b[0m \u001b[1m0s\u001b[0m 5ms/step - Precision: 0.9207 - Recall: 0.5395 - accuracy: 0.7518 - loss: 1.7519 - val_Precision: 0.9838 - val_Recall: 0.7027 - val_accuracy: 0.8996 - val_loss: 1.4789\n",
            "Epoch 31/50\n",
            "\u001b[1m86/86\u001b[0m \u001b[32m━━━━━━━━━━━━━━━━━━━━\u001b[0m\u001b[37m\u001b[0m \u001b[1m0s\u001b[0m 5ms/step - Precision: 0.9191 - Recall: 0.5564 - accuracy: 0.7748 - loss: 1.7074 - val_Precision: 0.9701 - val_Recall: 0.7529 - val_accuracy: 0.9151 - val_loss: 1.4089\n",
            "Epoch 32/50\n",
            "\u001b[1m86/86\u001b[0m \u001b[32m━━━━━━━━━━━━━━━━━━━━\u001b[0m\u001b[37m\u001b[0m \u001b[1m0s\u001b[0m 5ms/step - Precision: 0.9194 - Recall: 0.5629 - accuracy: 0.7534 - loss: 1.7111 - val_Precision: 0.9810 - val_Recall: 0.7954 - val_accuracy: 0.9266 - val_loss: 1.3837\n",
            "Epoch 33/50\n",
            "\u001b[1m86/86\u001b[0m \u001b[32m━━━━━━━━━━━━━━━━━━━━\u001b[0m\u001b[37m\u001b[0m \u001b[1m0s\u001b[0m 5ms/step - Precision: 0.9100 - Recall: 0.5769 - accuracy: 0.7796 - loss: 1.6450 - val_Precision: 0.9714 - val_Recall: 0.7876 - val_accuracy: 0.9266 - val_loss: 1.3760\n",
            "Epoch 34/50\n",
            "\u001b[1m86/86\u001b[0m \u001b[32m━━━━━━━━━━━━━━━━━━━━\u001b[0m\u001b[37m\u001b[0m \u001b[1m0s\u001b[0m 5ms/step - Precision: 0.9005 - Recall: 0.5466 - accuracy: 0.7642 - loss: 1.7172 - val_Precision: 0.9665 - val_Recall: 0.7799 - val_accuracy: 0.9266 - val_loss: 1.3845\n",
            "Epoch 35/50\n",
            "\u001b[1m86/86\u001b[0m \u001b[32m━━━━━━━━━━━━━━━━━━━━\u001b[0m\u001b[37m\u001b[0m \u001b[1m0s\u001b[0m 5ms/step - Precision: 0.9262 - Recall: 0.5799 - accuracy: 0.7924 - loss: 1.6328 - val_Precision: 0.9621 - val_Recall: 0.7838 - val_accuracy: 0.9305 - val_loss: 1.3771\n",
            "Epoch 36/50\n",
            "\u001b[1m86/86\u001b[0m \u001b[32m━━━━━━━━━━━━━━━━━━━━\u001b[0m\u001b[37m\u001b[0m \u001b[1m0s\u001b[0m 5ms/step - Precision: 0.8962 - Recall: 0.5745 - accuracy: 0.7594 - loss: 1.6712 - val_Precision: 0.9716 - val_Recall: 0.7915 - val_accuracy: 0.9228 - val_loss: 1.3635\n",
            "Epoch 37/50\n",
            "\u001b[1m86/86\u001b[0m \u001b[32m━━━━━━━━━━━━━━━━━━━━\u001b[0m\u001b[37m\u001b[0m \u001b[1m0s\u001b[0m 5ms/step - Precision: 0.9157 - Recall: 0.6293 - accuracy: 0.8136 - loss: 1.5866 - val_Precision: 0.9810 - val_Recall: 0.7992 - val_accuracy: 0.9382 - val_loss: 1.2980\n",
            "Epoch 38/50\n",
            "\u001b[1m86/86\u001b[0m \u001b[32m━━━━━━━━━━━━━━━━━━━━\u001b[0m\u001b[37m\u001b[0m \u001b[1m0s\u001b[0m 5ms/step - Precision: 0.9236 - Recall: 0.6063 - accuracy: 0.7957 - loss: 1.5965 - val_Precision: 0.9858 - val_Recall: 0.8069 - val_accuracy: 0.9421 - val_loss: 1.3052\n",
            "Epoch 39/50\n",
            "\u001b[1m86/86\u001b[0m \u001b[32m━━━━━━━━━━━━━━━━━━━━\u001b[0m\u001b[37m\u001b[0m \u001b[1m0s\u001b[0m 5ms/step - Precision: 0.8964 - Recall: 0.5707 - accuracy: 0.7581 - loss: 1.6389 - val_Precision: 0.9766 - val_Recall: 0.8069 - val_accuracy: 0.9498 - val_loss: 1.3166\n",
            "Epoch 40/50\n",
            "\u001b[1m86/86\u001b[0m \u001b[32m━━━━━━━━━━━━━━━━━━━━\u001b[0m\u001b[37m\u001b[0m \u001b[1m0s\u001b[0m 5ms/step - Precision: 0.9323 - Recall: 0.5714 - accuracy: 0.7899 - loss: 1.6386 - val_Precision: 0.9640 - val_Recall: 0.8263 - val_accuracy: 0.9344 - val_loss: 1.3197\n"
          ]
        },
        {
          "output_type": "stream",
          "name": "stderr",
          "text": [
            "WARNING:absl:You are saving your model as an HDF5 file via `model.save()` or `keras.saving.save_model(model)`. This file format is considered legacy. We recommend using instead the native Keras format, e.g. `model.save('my_model.keras')` or `keras.saving.save_model(model, 'my_model.keras')`. \n"
          ]
        },
        {
          "output_type": "stream",
          "name": "stdout",
          "text": [
            "Training Complete\n"
          ]
        }
      ],
      "source": [
        "from tensorflow.keras.callbacks import EarlyStopping\n",
        "\n",
        "early_stop = EarlyStopping(monitor='val_loss', patience=3, restore_best_weights=True)\n",
        "\n",
        "hist = model.fit(np.array(train_x), np.array(train_y),\n",
        "                 epochs=50, batch_size=12,\n",
        "                 validation_split=0.2,\n",
        "                 callbacks=[early_stop],\n",
        "                 verbose=1)\n",
        "\n",
        "model.save('../model/conversationalchatbotmodel.h5', hist)\n",
        "print('Training Complete')"
      ]
    },
    {
      "cell_type": "code",
      "execution_count": 16,
      "metadata": {
        "colab": {
          "base_uri": "https://localhost:8080/",
          "height": 472
        },
        "id": "O1sL6rOLbcvJ",
        "outputId": "bb33ab4a-f5a9-42d6-bd0e-352a7b73ea55"
      },
      "outputs": [
        {
          "output_type": "display_data",
          "data": {
            "text/plain": [
              "<Figure size 640x480 with 1 Axes>"
            ],
            "image/png": "[encoded data removed]"
          },
          "metadata": {}
        }
      ],
      "source": [
        "\n",
        "# Plot training accuracy and loss over epochs\n",
        "plt.plot(hist.history['accuracy'], label='accuracy')\n",
        "plt.plot(hist.history['loss'], label='loss')\n",
        "plt.xlabel('Epochs')\n",
        "plt.ylabel('Value')\n",
        "plt.title('Training Accuracy and Loss')\n",
        "plt.legend()\n",
        "plt.show()"
      ]
    },
    {
      "cell_type": "markdown",
      "metadata": {
        "id": "q1IghpRRbcvK"
      },
      "source": [
        "# Loading the Model for Chatbot Prediction\n",
        "\n",
        "- Loads the trained chatbot model.\n",
        "- Defines a function `predict_class()` to classify user input.\n",
        "- Implements a chatbot loop that takes user input, predicts intent, and generates a response.\n"
      ]
    },
    {
      "cell_type": "code",
      "execution_count": 17,
      "metadata": {
        "colab": {
          "base_uri": "https://localhost:8080/",
          "height": 636
        },
        "id": "-W4RAGZ2bcvK",
        "outputId": "f0444199-c651-48cf-9ef8-867ee9b57226"
      },
      "outputs": [
        {
          "output_type": "stream",
          "name": "stderr",
          "text": [
            "WARNING:absl:Compiled the loaded model, but the compiled metrics have yet to be built. `model.compile_metrics` will be empty until you train or evaluate the model.\n"
          ]
        },
        {
          "output_type": "stream",
          "name": "stdout",
          "text": [
            "CHAT_BOT IS LIVE NOW....\n",
            "Hello\n",
            "\u001b[1m1/1\u001b[0m \u001b[32m━━━━━━━━━━━━━━━━━━━━\u001b[0m\u001b[37m\u001b[0m \u001b[1m0s\u001b[0m 68ms/step\n",
            "Bot: Hello there. Tell me how are you feeling today?\n",
            "I'm feeling sad\n",
            "\u001b[1m1/1\u001b[0m \u001b[32m━━━━━━━━━━━━━━━━━━━━\u001b[0m\u001b[37m\u001b[0m \u001b[1m0s\u001b[0m 48ms/step\n",
            "Bot: I'm sorry to hear that. I'm here for you. Talking about it might help. So, tell me why do you think you're feeling this way?\n",
            "I am failing in school\n",
            "\u001b[1m1/1\u001b[0m \u001b[32m━━━━━━━━━━━━━━━━━━━━\u001b[0m\u001b[37m\u001b[0m \u001b[1m0s\u001b[0m 43ms/step\n",
            "Bot: It helps to talk about what's happening. You're going to be okay\n",
            "thank you\n",
            "\u001b[1m1/1\u001b[0m \u001b[32m━━━━━━━━━━━━━━━━━━━━\u001b[0m\u001b[37m\u001b[0m \u001b[1m0s\u001b[0m 50ms/step\n",
            "Bot: Happy to help!\n"
          ]
        },
        {
          "output_type": "error",
          "ename": "KeyboardInterrupt",
          "evalue": "Interrupted by user",
          "traceback": [
            "\u001b[0;31m---------------------------------------------------------------------------\u001b[0m",
            "\u001b[0;31mKeyboardInterrupt\u001b[0m                         Traceback (most recent call last)",
            "\u001b[0;32m/tmp/ipython-input-2872131897.py\u001b[0m in \u001b[0;36m<cell line: 0>\u001b[0;34m()\u001b[0m\n\u001b[1;32m     21\u001b[0m \u001b[0;34m\u001b[0m\u001b[0m\n\u001b[1;32m     22\u001b[0m \u001b[0;32mwhile\u001b[0m \u001b[0;32mTrue\u001b[0m\u001b[0;34m:\u001b[0m\u001b[0;34m\u001b[0m\u001b[0;34m\u001b[0m\u001b[0m\n\u001b[0;32m---> 23\u001b[0;31m     \u001b[0mmessage\u001b[0m \u001b[0;34m=\u001b[0m \u001b[0minput\u001b[0m\u001b[0;34m(\u001b[0m\u001b[0;34m\"\"\u001b[0m\u001b[0;34m)\u001b[0m\u001b[0;34m\u001b[0m\u001b[0;34m\u001b[0m\u001b[0m\n\u001b[0m\u001b[1;32m     24\u001b[0m     \u001b[0;32mif\u001b[0m \u001b[0mmessage\u001b[0m\u001b[0;34m.\u001b[0m\u001b[0mlower\u001b[0m\u001b[0;34m(\u001b[0m\u001b[0;34m)\u001b[0m \u001b[0;32min\u001b[0m \u001b[0;34m[\u001b[0m\u001b[0;34m'quit'\u001b[0m\u001b[0;34m,\u001b[0m \u001b[0;34m'exit'\u001b[0m\u001b[0;34m]\u001b[0m\u001b[0;34m:\u001b[0m\u001b[0;34m\u001b[0m\u001b[0;34m\u001b[0m\u001b[0m\n\u001b[1;32m     25\u001b[0m         \u001b[0mprint\u001b[0m\u001b[0;34m(\u001b[0m\u001b[0;34m\"Goodbye\"\u001b[0m\u001b[0;34m)\u001b[0m\u001b[0;34m\u001b[0m\u001b[0;34m\u001b[0m\u001b[0m\n",
            "\u001b[0;32m/usr/local/lib/python3.12/dist-packages/ipykernel/kernelbase.py\u001b[0m in \u001b[0;36mraw_input\u001b[0;34m(self, prompt)\u001b[0m\n\u001b[1;32m   1175\u001b[0m                 \u001b[0;34m\"raw_input was called, but this frontend does not support input requests.\"\u001b[0m\u001b[0;34m\u001b[0m\u001b[0;34m\u001b[0m\u001b[0m\n\u001b[1;32m   1176\u001b[0m             )\n\u001b[0;32m-> 1177\u001b[0;31m         return self._input_request(\n\u001b[0m\u001b[1;32m   1178\u001b[0m             \u001b[0mstr\u001b[0m\u001b[0;34m(\u001b[0m\u001b[0mprompt\u001b[0m\u001b[0;34m)\u001b[0m\u001b[0;34m,\u001b[0m\u001b[0;34m\u001b[0m\u001b[0;34m\u001b[0m\u001b[0m\n\u001b[1;32m   1179\u001b[0m             \u001b[0mself\u001b[0m\u001b[0;34m.\u001b[0m\u001b[0m_parent_ident\u001b[0m\u001b[0;34m[\u001b[0m\u001b[0;34m\"shell\"\u001b[0m\u001b[0;34m]\u001b[0m\u001b[0;34m,\u001b[0m\u001b[0;34m\u001b[0m\u001b[0;34m\u001b[0m\u001b[0m\n",
            "\u001b[0;32m/usr/local/lib/python3.12/dist-packages/ipykernel/kernelbase.py\u001b[0m in \u001b[0;36m_input_request\u001b[0;34m(self, prompt, ident, parent, password)\u001b[0m\n\u001b[1;32m   1217\u001b[0m             \u001b[0;32mexcept\u001b[0m \u001b[0mKeyboardInterrupt\u001b[0m\u001b[0;34m:\u001b[0m\u001b[0;34m\u001b[0m\u001b[0;34m\u001b[0m\u001b[0m\n\u001b[1;32m   1218\u001b[0m                 \u001b[0;31m# re-raise KeyboardInterrupt, to truncate traceback\u001b[0m\u001b[0;34m\u001b[0m\u001b[0;34m\u001b[0m\u001b[0m\n\u001b[0;32m-> 1219\u001b[0;31m                 \u001b[0;32mraise\u001b[0m \u001b[0mKeyboardInterrupt\u001b[0m\u001b[0;34m(\u001b[0m\u001b[0;34m\"Interrupted by user\"\u001b[0m\u001b[0;34m)\u001b[0m \u001b[0;32mfrom\u001b[0m \u001b[0;32mNone\u001b[0m\u001b[0;34m\u001b[0m\u001b[0;34m\u001b[0m\u001b[0m\n\u001b[0m\u001b[1;32m   1220\u001b[0m             \u001b[0;32mexcept\u001b[0m \u001b[0mException\u001b[0m\u001b[0;34m:\u001b[0m\u001b[0;34m\u001b[0m\u001b[0;34m\u001b[0m\u001b[0m\n\u001b[1;32m   1221\u001b[0m                 \u001b[0mself\u001b[0m\u001b[0;34m.\u001b[0m\u001b[0mlog\u001b[0m\u001b[0;34m.\u001b[0m\u001b[0mwarning\u001b[0m\u001b[0;34m(\u001b[0m\u001b[0;34m\"Invalid Message:\"\u001b[0m\u001b[0;34m,\u001b[0m \u001b[0mexc_info\u001b[0m\u001b[0;34m=\u001b[0m\u001b[0;32mTrue\u001b[0m\u001b[0;34m)\u001b[0m\u001b[0;34m\u001b[0m\u001b[0;34m\u001b[0m\u001b[0m\n",
            "\u001b[0;31mKeyboardInterrupt\u001b[0m: Interrupted by user"
          ]
        }
      ],
      "source": [
        "# Load the model for prediction\n",
        "model = load_model('../model/conversationalchatbotmodel.h5')\n",
        "\n",
        "def predict_class(sentence):\n",
        "    embedding = get_bert_embedding(sentence)\n",
        "    res = model.predict(embedding)[0]\n",
        "    ERROR_THRESHOLD = 0.25\n",
        "    results = [[i, r] for i, r in enumerate(res) if r > ERROR_THRESHOLD]\n",
        "    results.sort(key=lambda x: x[1], reverse=True)\n",
        "    return_list = [{'intent': classes[r[0]], 'probability': str(r[1])} for r in results]\n",
        "    return return_list\n",
        "\n",
        "def get_response(intents_list, intents_json):\n",
        "    tag = intents_list[0]['intent']\n",
        "    for i in intents_json['intents']:\n",
        "        if tag in i['tags']:\n",
        "            return random.choice(i['responses'])\n",
        "    return \"Sorry, I don't understand.\"\n",
        "\n",
        "print(\"CHAT_BOT IS LIVE NOW....\")\n",
        "\n",
        "while True:\n",
        "    message = input(\"\")\n",
        "    if message.lower() in ['quit', 'exit']:\n",
        "        print(\"Goodbye\")\n",
        "        break\n",
        "    ints = predict_class(message)\n",
        "    if ints:\n",
        "        res = get_response(ints, dict_)\n",
        "        print(f\"Bot: {res}\")\n",
        "    else:\n",
        "        print(\"Bot: Sorry, I don't understand.\")"
      ]
    },
    {
      "cell_type": "markdown",
      "metadata": {
        "id": "8ubTePO-bcvL"
      },
      "source": [
        "# Evaluating Model Performance\n",
        "\n",
        "- Uses classification metrics (`accuracy_score`, `f1_score`, and `classification_report`).\n",
        "- Compares predicted vs. actual labels.\n",
        "- Displays a detailed classification report for model evaluation.\n"
      ]
    },
    {
      "cell_type": "code",
      "execution_count": 18,
      "metadata": {
        "colab": {
          "base_uri": "https://localhost:8080/"
        },
        "id": "ANdctdFLbcvL",
        "outputId": "1594adcb-65b5-4a01-f6d1-ee1a7074f9a8"
      },
      "outputs": [
        {
          "output_type": "stream",
          "name": "stdout",
          "text": [
            "\u001b[1m41/41\u001b[0m \u001b[32m━━━━━━━━━━━━━━━━━━━━\u001b[0m\u001b[37m\u001b[0m \u001b[1m0s\u001b[0m 2ms/step\n",
            "Accuracy: 0.9752\n",
            "F1 Score: 0.9720\n",
            "Classification Report:\n",
            "              precision    recall  f1-score   support\n",
            "\n",
            "           0       1.00      1.00      1.00        30\n",
            "           1       1.00      1.00      1.00         2\n",
            "           2       1.00      1.00      1.00        30\n",
            "           3       1.00      1.00      1.00        36\n",
            "           4       1.00      1.00      1.00         4\n",
            "           5       1.00      1.00      1.00        30\n",
            "           6       0.92      1.00      0.96        24\n",
            "           7       1.00      1.00      1.00        12\n",
            "           8       1.00      1.00      1.00        12\n",
            "           9       1.00      1.00      1.00        16\n",
            "          10       1.00      1.00      1.00        40\n",
            "          11       1.00      1.00      1.00        12\n",
            "          12       0.00      0.00      0.00         2\n",
            "          13       1.00      1.00      1.00         6\n",
            "          14       1.00      0.25      0.40         4\n",
            "          15       1.00      1.00      1.00         4\n",
            "          16       1.00      0.75      0.86         4\n",
            "          17       1.00      1.00      1.00         4\n",
            "          18       1.00      1.00      1.00         4\n",
            "          19       1.00      1.00      1.00         4\n",
            "          20       1.00      1.00      1.00         4\n",
            "          21       1.00      1.00      1.00         4\n",
            "          22       1.00      1.00      1.00         4\n",
            "          23       1.00      1.00      1.00         4\n",
            "          24       0.57      1.00      0.73         8\n",
            "          25       1.00      1.00      1.00         4\n",
            "          26       1.00      1.00      1.00         4\n",
            "          27       1.00      1.00      1.00         4\n",
            "          28       1.00      1.00      1.00         4\n",
            "          29       1.00      1.00      1.00         4\n",
            "          30       1.00      1.00      1.00         4\n",
            "          31       0.89      1.00      0.94         8\n",
            "          32       1.00      0.25      0.40         4\n",
            "          33       1.00      1.00      1.00         4\n",
            "          34       1.00      1.00      1.00         4\n",
            "          35       1.00      0.83      0.91         6\n",
            "          36       1.00      0.57      0.73         7\n",
            "          37       1.00      0.25      0.40         4\n",
            "          38       0.67      1.00      0.80         6\n",
            "          39       0.94      1.00      0.97        16\n",
            "          40       1.00      1.00      1.00         8\n",
            "          41       1.00      1.00      1.00        12\n",
            "          42       1.00      1.00      1.00         4\n",
            "          43       1.00      1.00      1.00         4\n",
            "          44       1.00      1.00      1.00        32\n",
            "          45       0.80      1.00      0.89        16\n",
            "          46       1.00      1.00      1.00        26\n",
            "          47       1.00      1.00      1.00        30\n",
            "          48       1.00      1.00      1.00        30\n",
            "          49       1.00      0.95      0.98        22\n",
            "          50       0.67      0.67      0.67         6\n",
            "          51       0.67      0.67      0.67         6\n",
            "          52       1.00      1.00      1.00        20\n",
            "          53       1.00      1.00      1.00        30\n",
            "          54       1.00      1.00      1.00         4\n",
            "          55       1.00      1.00      1.00        12\n",
            "          56       1.00      1.00      1.00        13\n",
            "          57       1.00      1.00      1.00        12\n",
            "          58       1.00      1.00      1.00         8\n",
            "          59       1.00      1.00      1.00         4\n",
            "          60       1.00      1.00      1.00         2\n",
            "          61       1.00      1.00      1.00        30\n",
            "          62       1.00      1.00      1.00         8\n",
            "          63       1.00      1.00      1.00         2\n",
            "          64       0.00      0.00      0.00         2\n",
            "          65       1.00      1.00      1.00         7\n",
            "          66       1.00      1.00      1.00        44\n",
            "          67       1.00      1.00      1.00        30\n",
            "          68       1.00      0.57      0.73         7\n",
            "          69       1.00      1.00      1.00        30\n",
            "          70       1.00      1.00      1.00         9\n",
            "          71       1.00      1.00      1.00        30\n",
            "          72       1.00      1.00      1.00         8\n",
            "          73       1.00      1.00      1.00        46\n",
            "          74       1.00      1.00      1.00        43\n",
            "          75       0.91      1.00      0.95        30\n",
            "          76       1.00      1.00      1.00         4\n",
            "          77       1.00      1.00      1.00        20\n",
            "          78       1.00      1.00      1.00        14\n",
            "          79       1.00      1.00      1.00        40\n",
            "          80       0.75      1.00      0.86        12\n",
            "          81       1.00      1.00      1.00        42\n",
            "          82       1.00      0.80      0.89        10\n",
            "          83       1.00      1.00      1.00        30\n",
            "          84       1.00      1.00      1.00        21\n",
            "          85       1.00      1.00      1.00        10\n",
            "          86       1.00      1.00      1.00         9\n",
            "          87       0.69      1.00      0.82         9\n",
            "          88       1.00      1.00      1.00        46\n",
            "          89       1.00      0.60      0.75        10\n",
            "\n",
            "    accuracy                           0.98      1291\n",
            "   macro avg       0.95      0.92      0.93      1291\n",
            "weighted avg       0.98      0.98      0.97      1291\n",
            "\n"
          ]
        },
        {
          "output_type": "stream",
          "name": "stderr",
          "text": [
            "/usr/local/lib/python3.12/dist-packages/sklearn/metrics/_classification.py:1565: UndefinedMetricWarning: Precision is ill-defined and being set to 0.0 in labels with no predicted samples. Use `zero_division` parameter to control this behavior.\n",
            "  _warn_prf(average, modifier, f\"{metric.capitalize()} is\", len(result))\n",
            "/usr/local/lib/python3.12/dist-packages/sklearn/metrics/_classification.py:1565: UndefinedMetricWarning: Precision is ill-defined and being set to 0.0 in labels with no predicted samples. Use `zero_division` parameter to control this behavior.\n",
            "  _warn_prf(average, modifier, f\"{metric.capitalize()} is\", len(result))\n",
            "/usr/local/lib/python3.12/dist-packages/sklearn/metrics/_classification.py:1565: UndefinedMetricWarning: Precision is ill-defined and being set to 0.0 in labels with no predicted samples. Use `zero_division` parameter to control this behavior.\n",
            "  _warn_prf(average, modifier, f\"{metric.capitalize()} is\", len(result))\n"
          ]
        }
      ],
      "source": [
        "from sklearn.metrics import classification_report, accuracy_score, f1_score\n",
        "\n",
        "# Evaluate the model\n",
        "y_pred = model.predict(train_x)\n",
        "y_pred_classes = np.argmax(y_pred, axis=1)\n",
        "y_true_classes = np.argmax(train_y, axis=1)\n",
        "\n",
        "# Calculate and print metrics\n",
        "accuracy = accuracy_score(y_true_classes, y_pred_classes)\n",
        "f1 = f1_score(y_true_classes, y_pred_classes, average='weighted')\n",
        "\n",
        "print(f\"Accuracy: {accuracy:.4f}\")\n",
        "print(f\"F1 Score: {f1:.4f}\")\n",
        "\n",
        "# Detailed classification report\n",
        "report = classification_report(y_true_classes, y_pred_classes)\n",
        "print(\"Classification Report:\")\n",
        "print(report)"
      ]
    },
    {
      "cell_type": "markdown",
      "metadata": {
        "id": "hGCtczu8bcvM"
      },
      "source": [
        "### **Performance Metrics Overview**  \n",
        "\n",
        "#### **Accuracy: 0.95**  \n",
        "The model correctly predicted the class for **93.63%** of the samples in the training set. While this is a strong performance, it indicates that some misclassifications occurred.  \n",
        "\n",
        "#### **F1 Score: 0.92**  \n",
        "An F1 score of **0.92** reflects a good balance between precision and recall, meaning the model makes accurate predictions while minimizing false positives and false negatives.  \n",
        "\n",
        "### **Detailed Classification Report**  \n",
        "\n",
        "- **Precision** (True Positives / Predicted Positives)  \n",
        "  - Measures how many of the predicted positive cases were actually correct.  \n",
        "  - A high precision score suggests the model makes few false positive predictions.  \n",
        "\n",
        "- **Recall** (True Positives / Actual Positives)  \n",
        "  - Indicates how well the model identifies all true instances of a class.  \n",
        "  - A good recall score means the model captures most relevant cases with minimal false negatives.  \n",
        "\n",
        "- **F1 Score** (Harmonic Mean of Precision & Recall)  \n",
        "  - Ensures a balanced evaluation by considering both precision and recall.  \n",
        "  - An F1 score of **0.9262** suggests the model maintains strong predictive performance across all classes.  \n",
        "\n",
        "- **Support** (Total Samples per Class)  \n",
        "  - Indicates the number of instances in the dataset for each class.  \n",
        "  - Helps assess how well the model performs on different class distributions.  \n",
        "\n",
        "### **Summary of Results**  \n",
        "\n",
        "- **Overall Performance:** The model demonstrates **strong classification accuracy (93.63%)** and **high F1 score (92.62%)**, indicating effective generalization.  \n",
        "- **Macro Average:** Evaluates the model’s performance equally across all classes.  \n",
        "- **Weighted Average:** Accounts for class distribution, ensuring more frequent classes do not dominate the evaluation.  \n",
        "\n",
        "While the model performs well, some misclassifications exist, suggesting potential areas for improvement, such as hyperparameter tuning, additional data augmentation, or refining feature extraction techniques.\n"
      ]
    }
  ],
  "metadata": {
    "kernelspec": {
      "display_name": "Python 3",
      "language": "python",
      "name": "python3"
    },
    "language_info": {
      "codemirror_mode": {
        "name": "ipython",
        "version": 3
      },
      "file_extension": ".py",
      "mimetype": "text/x-python",
      "name": "python",
      "nbconvert_exporter": "python",
      "pygments_lexer": "ipython3",
      "version": "3.11.0"
    },
    "colab": {
      "provenance": [],
      "include_colab_link": true
    }
  },
  "nbformat": 4,
  "nbformat_minor": 0
}